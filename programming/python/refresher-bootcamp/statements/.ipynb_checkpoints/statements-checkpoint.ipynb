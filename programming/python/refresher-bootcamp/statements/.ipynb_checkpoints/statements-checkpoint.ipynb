{
 "cells": [
  {
   "cell_type": "code",
   "execution_count": 4,
   "id": "68855480",
   "metadata": {},
   "outputs": [
    {
     "name": "stdout",
     "output_type": "stream",
     "text": [
      "hello\n"
     ]
    }
   ],
   "source": [
    "print('hello')"
   ]
  },
  {
   "cell_type": "code",
   "execution_count": 5,
   "id": "30a4742b",
   "metadata": {},
   "outputs": [
    {
     "name": "stdout",
     "output_type": "stream",
     "text": [
      "no\n"
     ]
    }
   ],
   "source": [
    "num_1 = 10\n",
    "num_2 = 20\n",
    "\n",
    "# This is a statement - we call it an `if statement` or `conditional`\n",
    "if num_1 > num_2:\n",
    "    print('Yes')\n",
    "else:\n",
    "    print('no')"
   ]
  },
  {
   "cell_type": "code",
   "execution_count": 7,
   "id": "d2b5743b",
   "metadata": {},
   "outputs": [
    {
     "name": "stdout",
     "output_type": "stream",
     "text": [
      "False\n"
     ]
    }
   ],
   "source": [
    "val = True\n",
    "val2 = False\n",
    "print(val == val2)"
   ]
  },
  {
   "cell_type": "code",
   "execution_count": 9,
   "id": "3e784616",
   "metadata": {},
   "outputs": [
    {
     "name": "stdout",
     "output_type": "stream",
     "text": [
      "True\n",
      "50\n",
      "10\n",
      "Index of value 30 in lst is 2\n"
     ]
    }
   ],
   "source": [
    "lst = [10, 20, 30, 40, 50]\n",
    "\n",
    "print(10 in lst) # in keyword\n",
    "\n",
    "print(max(lst))\n",
    "print(min(lst))\n",
    "\n",
    "# find index of 30 if it exists\n",
    "if 30 in lst:\n",
    "    idx = lst.index(30)\n",
    "    print(f\"Index of value 30 in lst is {idx}\")"
   ]
  }
 ],
 "metadata": {
  "kernelspec": {
   "display_name": "Python 3 (ipykernel)",
   "language": "python",
   "name": "python3"
  },
  "language_info": {
   "codemirror_mode": {
    "name": "ipython",
    "version": 3
   },
   "file_extension": ".py",
   "mimetype": "text/x-python",
   "name": "python",
   "nbconvert_exporter": "python",
   "pygments_lexer": "ipython3",
   "version": "3.10.9"
  }
 },
 "nbformat": 4,
 "nbformat_minor": 5
}
