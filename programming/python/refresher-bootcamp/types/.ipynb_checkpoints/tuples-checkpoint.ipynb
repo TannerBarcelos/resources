{
 "cells": [
  {
   "cell_type": "markdown",
   "id": "80131cbc",
   "metadata": {},
   "source": [
    "# Tuples\n",
    "- Tuples are ordered, immutable sequences of values\n",
    "- They are like arrays, but also not. You can index them or create them with values but they cannot be mutated\n",
    "- We **unpack** tuples a lot in Python to gather values from them\n",
    "- Tuples are used to represent very specific data collections"
   ]
  },
  {
   "cell_type": "code",
   "execution_count": 8,
   "id": "2dbd673f",
   "metadata": {},
   "outputs": [
    {
     "name": "stdout",
     "output_type": "stream",
     "text": [
      "Tanner 27 USA\n"
     ]
    }
   ],
   "source": [
    "user1 = ('Tanner', 27, 'USA')\n",
    "user2 = ('Hayden', 25, 'USA')\n",
    "\n",
    "# Tuple unpack - Just like destructuring in JavaScript\n",
    "name, age, country = user1\n",
    "\n",
    "print(name, age, country)"
   ]
  },
  {
   "cell_type": "markdown",
   "id": "bf119d68",
   "metadata": {},
   "source": [
    "**Tuple unpacking within lists**"
   ]
  },
  {
   "cell_type": "code",
   "execution_count": 13,
   "id": "d1bac471",
   "metadata": {},
   "outputs": [
    {
     "name": "stdout",
     "output_type": "stream",
     "text": [
      "Username: Tanner\n",
      "Age: 27\n",
      "Country: USA\n",
      "Username: Hayden\n",
      "Age: 25\n",
      "Country: USA\n",
      "('Tanner', 27, 'USA')\n",
      "('Hayden', 25, 'USA')\n",
      "Tanner 27 USA\n",
      "Hayden 25 USA\n"
     ]
    }
   ],
   "source": [
    "lst = [user1, user2]\n",
    "for (name, age, country) in lst:\n",
    "    sentence = f\"Username: {name}\\nAge: {age}\\nCountry: {country}\"\n",
    "    print(sentence)\n",
    "    \n",
    "# We unpacked the values on the iterator. We can also not unpack to show what this looks like\n",
    "for user in lst:\n",
    "    print(user) # note it prints tuples\n",
    "    \n",
    "# So we can take the above and expand the first loop 1-liner unpacking logic into the block of the loop\n",
    "for user in lst:\n",
    "    name, age, country = user\n",
    "    print(name, age, country)\n",
    "    \n",
    "# And now it matches the result of the first loop"
   ]
  }
 ],
 "metadata": {
  "kernelspec": {
   "display_name": "Python 3 (ipykernel)",
   "language": "python",
   "name": "python3"
  },
  "language_info": {
   "codemirror_mode": {
    "name": "ipython",
    "version": 3
   },
   "file_extension": ".py",
   "mimetype": "text/x-python",
   "name": "python",
   "nbconvert_exporter": "python",
   "pygments_lexer": "ipython3",
   "version": "3.10.9"
  }
 },
 "nbformat": 4,
 "nbformat_minor": 5
}
