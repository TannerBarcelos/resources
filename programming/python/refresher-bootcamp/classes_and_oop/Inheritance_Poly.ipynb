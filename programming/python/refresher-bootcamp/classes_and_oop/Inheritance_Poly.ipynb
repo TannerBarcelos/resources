{
 "cells": [
  {
   "cell_type": "markdown",
   "id": "c498905a",
   "metadata": {},
   "source": [
    "# Inheritance and Polymorphism"
   ]
  },
  {
   "cell_type": "code",
   "execution_count": 28,
   "id": "4e3041fe",
   "metadata": {},
   "outputs": [
    {
     "name": "stdout",
     "output_type": "stream",
     "text": [
      "I am a doggy and my breed is French Bulldog\n",
      "woof!\n",
      "Chomp Chomp!\n",
      "I am a kitty and my breed is Felix\n",
      "meow!\n",
      "Lick Lick!\n"
     ]
    }
   ],
   "source": [
    "# Base Class\n",
    "class Animal():\n",
    "    def __init__(self):\n",
    "        print('Animal created')\n",
    "    def who_am_i(self):\n",
    "        print('I am an animal')\n",
    "    def speak(self):\n",
    "        print('I am eating')\n",
    "\n",
    "# Child / Sub-class\n",
    "class Dog(Animal):\n",
    "    def __init__(self, breed):\n",
    "        super()\n",
    "        self.breed = breed\n",
    "        \n",
    "    # Method overriding from base class\n",
    "    def who_am_i(self):\n",
    "        print(f'I am a doggy and my breed is {self.breed}')\n",
    "        \n",
    "    # Method overriding from base class\n",
    "    def eat(self):\n",
    "        print('Chomp Chomp!')\n",
    "    \n",
    "    # Method overriding from base class  \n",
    "    def speak(self):\n",
    "        print('woof!')\n",
    "\n",
    "# Child / Sub-class\n",
    "class Cat(Animal):\n",
    "    def __init__(self, breed):\n",
    "        super()\n",
    "        self.breed = breed\n",
    "        \n",
    "    # Method overriding from base class\n",
    "    def who_am_i(self):\n",
    "        print(f'I am a kitty and my breed is {self.breed}')\n",
    "        \n",
    "    # Method overriding from base class\n",
    "    def eat(self):\n",
    "        print('Lick Lick!')\n",
    "       \n",
    "    # New non-inherited / overriden method\n",
    "    def speak(self):\n",
    "        print('meow!')\n",
    "        \n",
    "animal_list = []\n",
    "dog = Dog('French Bulldog')\n",
    "cat = Cat('Felix')\n",
    "\n",
    "animal_list.append(dog)\n",
    "animal_list.append(cat)\n",
    "\n",
    "# Different objects but calling common method! This is polymorphism - taking many forms\n",
    "for animal in animal_list:\n",
    "    animal.who_am_i()\n",
    "    animal.speak()\n",
    "    animal.eat()"
   ]
  },
  {
   "cell_type": "markdown",
   "id": "44c94386",
   "metadata": {},
   "source": [
    "* While this example is valid and works, a more common approach is making your base class **abstract** and having your child classes implement each method that is abstract\n",
    "* Python does not have an `abstract` keyword, so just like dunder methods / attributes, we simulate abstract methods by simply defining the method signature and raising a `NotImplementedError(some_Str)` which will throw is the inheting class does not implement it! "
   ]
  },
  {
   "cell_type": "code",
   "execution_count": 31,
   "id": "dac5719a",
   "metadata": {},
   "outputs": [
    {
     "name": "stdout",
     "output_type": "stream",
     "text": [
      "I am a doggy and my breed is French Bulldog\n",
      "woof!\n",
      "Chomp Chomp!\n"
     ]
    },
    {
     "ename": "NotImplementedError",
     "evalue": "Inheriting class must implement this method as it is abstract",
     "output_type": "error",
     "traceback": [
      "\u001b[0;31m---------------------------------------------------------------------------\u001b[0m",
      "\u001b[0;31mNotImplementedError\u001b[0m                       Traceback (most recent call last)",
      "Cell \u001b[0;32mIn[31], line 51\u001b[0m\n\u001b[1;32m     49\u001b[0m \u001b[38;5;66;03m# Different objects but calling common method! This is polymorphism - taking many forms\u001b[39;00m\n\u001b[1;32m     50\u001b[0m \u001b[38;5;28;01mfor\u001b[39;00m animal \u001b[38;5;129;01min\u001b[39;00m animal_list:\n\u001b[0;32m---> 51\u001b[0m     \u001b[43manimal\u001b[49m\u001b[38;5;241;43m.\u001b[39;49m\u001b[43mwho_am_i\u001b[49m\u001b[43m(\u001b[49m\u001b[43m)\u001b[49m\n\u001b[1;32m     52\u001b[0m     animal\u001b[38;5;241m.\u001b[39mspeak()\n\u001b[1;32m     53\u001b[0m     animal\u001b[38;5;241m.\u001b[39meat()\n",
      "Cell \u001b[0;32mIn[31], line 6\u001b[0m, in \u001b[0;36mAnimal.who_am_i\u001b[0;34m(self)\u001b[0m\n\u001b[1;32m      5\u001b[0m \u001b[38;5;28;01mdef\u001b[39;00m \u001b[38;5;21mwho_am_i\u001b[39m(\u001b[38;5;28mself\u001b[39m):\n\u001b[0;32m----> 6\u001b[0m     \u001b[38;5;28;01mraise\u001b[39;00m \u001b[38;5;167;01mNotImplementedError\u001b[39;00m(\u001b[38;5;124m'\u001b[39m\u001b[38;5;124mInheriting class must implement this method as it is abstract\u001b[39m\u001b[38;5;124m'\u001b[39m)\n",
      "\u001b[0;31mNotImplementedError\u001b[0m: Inheriting class must implement this method as it is abstract"
     ]
    }
   ],
   "source": [
    "# Base Class\n",
    "class Animal():\n",
    "    def __init__(self):\n",
    "        print('Animal created')\n",
    "    def who_am_i(self):\n",
    "        raise NotImplementedError('Inheriting class must implement this method as it is abstract')\n",
    "    def speak(self):\n",
    "        raise NotImplementedError('Inheriting class must implement this method as it is abstract')\n",
    "\n",
    "# Child / Sub-class\n",
    "class Dog(Animal):\n",
    "    def __init__(self, breed):\n",
    "        super()\n",
    "        self.breed = breed\n",
    "        \n",
    "    # Method overriding from base class\n",
    "    def who_am_i(self):\n",
    "        print(f'I am a doggy and my breed is {self.breed}')\n",
    "        \n",
    "    # Method overriding from base class\n",
    "    def eat(self):\n",
    "        print('Chomp Chomp!')\n",
    "    \n",
    "    # Method overriding from base class  \n",
    "    def speak(self):\n",
    "        print('woof!')\n",
    "\n",
    "# Child / Sub-class\n",
    "class Cat(Animal):\n",
    "    def __init__(self, breed):\n",
    "        super()\n",
    "        self.breed = breed\n",
    "        \n",
    "    # Method overriding from base class\n",
    "    def eat(self):\n",
    "        print('Lick Lick!')\n",
    "       \n",
    "    # New non-inherited / overriden method\n",
    "    def speak(self):\n",
    "        print('meow!')\n",
    "        \n",
    "animal_list = []\n",
    "dog = Dog('French Bulldog')\n",
    "cat = Cat('Felix')\n",
    "\n",
    "animal_list.append(dog)\n",
    "animal_list.append(cat)\n",
    "\n",
    "# Different objects but calling common method! This is polymorphism - taking many forms\n",
    "for animal in animal_list:\n",
    "    animal.who_am_i()\n",
    "    animal.speak()\n",
    "    animal.eat()"
   ]
  },
  {
   "cell_type": "markdown",
   "id": "0032b738",
   "metadata": {},
   "source": [
    "Notice we see an error now! This is because in the Cat sub-class, I removed the `who_am_i` method which was explicitly written to be abstract and require implementation"
   ]
  }
 ],
 "metadata": {
  "kernelspec": {
   "display_name": "Python 3 (ipykernel)",
   "language": "python",
   "name": "python3"
  },
  "language_info": {
   "codemirror_mode": {
    "name": "ipython",
    "version": 3
   },
   "file_extension": ".py",
   "mimetype": "text/x-python",
   "name": "python",
   "nbconvert_exporter": "python",
   "pygments_lexer": "ipython3",
   "version": "3.10.9"
  }
 },
 "nbformat": 4,
 "nbformat_minor": 5
}
