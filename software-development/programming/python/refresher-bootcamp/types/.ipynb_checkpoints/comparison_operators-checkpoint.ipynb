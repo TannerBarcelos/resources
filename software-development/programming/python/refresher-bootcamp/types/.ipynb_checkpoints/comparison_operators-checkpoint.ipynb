{
 "cells": [
  {
   "cell_type": "markdown",
   "id": "252b7c67",
   "metadata": {},
   "source": [
    "# Comparison Operators\n",
    "\n",
    "* Comparison operators are used to check if something is compared to something else, is <, >, <=, >= etc\n",
    "* Python is unique in that you can use logical boolean operators with the literal word 'and', 'or', 'not'\n",
    "* Very simple section - It is all just boolean logic"
   ]
  },
  {
   "cell_type": "code",
   "execution_count": 1,
   "id": "b2b90ed2",
   "metadata": {},
   "outputs": [
    {
     "data": {
      "text/plain": [
       "False"
      ]
     },
     "execution_count": 1,
     "metadata": {},
     "output_type": "execute_result"
    }
   ],
   "source": [
    "2 > 3"
   ]
  },
  {
   "cell_type": "code",
   "execution_count": 3,
   "id": "388d97c7",
   "metadata": {},
   "outputs": [
    {
     "data": {
      "text/plain": [
       "True"
      ]
     },
     "execution_count": 3,
     "metadata": {},
     "output_type": "execute_result"
    }
   ],
   "source": [
    "2 > 1 < 4 # this is verbose"
   ]
  },
  {
   "cell_type": "code",
   "execution_count": 5,
   "id": "a69f9a84",
   "metadata": {},
   "outputs": [
    {
     "data": {
      "text/plain": [
       "True"
      ]
     },
     "execution_count": 5,
     "metadata": {},
     "output_type": "execute_result"
    }
   ],
   "source": [
    "2 > 1 and 1 < 4 # this is easier to read and does the same thing"
   ]
  },
  {
   "cell_type": "code",
   "execution_count": 7,
   "id": "cf296354",
   "metadata": {},
   "outputs": [
    {
     "data": {
      "text/plain": [
       "False"
      ]
     },
     "execution_count": 7,
     "metadata": {},
     "output_type": "execute_result"
    }
   ],
   "source": [
    "2 > 4 or 2 < 1"
   ]
  },
  {
   "cell_type": "markdown",
   "id": "3bdc2245",
   "metadata": {},
   "source": [
    "**`not` is special in that it does logical negation of a boolean result**"
   ]
  },
  {
   "cell_type": "code",
   "execution_count": 13,
   "id": "c382519d",
   "metadata": {},
   "outputs": [
    {
     "data": {
      "text/plain": [
       "False"
      ]
     },
     "execution_count": 13,
     "metadata": {},
     "output_type": "execute_result"
    }
   ],
   "source": [
    "not 2 == 2 # we know 2 == 2 but not will negate that"
   ]
  },
  {
   "cell_type": "code",
   "execution_count": 14,
   "id": "f3c7d361",
   "metadata": {},
   "outputs": [
    {
     "data": {
      "text/plain": [
       "False"
      ]
     },
     "execution_count": 14,
     "metadata": {},
     "output_type": "execute_result"
    }
   ],
   "source": [
    "12 != 12"
   ]
  }
 ],
 "metadata": {
  "kernelspec": {
   "display_name": "Python 3 (ipykernel)",
   "language": "python",
   "name": "python3"
  },
  "language_info": {
   "codemirror_mode": {
    "name": "ipython",
    "version": 3
   },
   "file_extension": ".py",
   "mimetype": "text/x-python",
   "name": "python",
   "nbconvert_exporter": "python",
   "pygments_lexer": "ipython3",
   "version": "3.10.9"
  }
 },
 "nbformat": 4,
 "nbformat_minor": 5
}
