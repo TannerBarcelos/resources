{
 "cells": [
  {
   "cell_type": "markdown",
   "id": "dda86e0c",
   "metadata": {},
   "source": [
    "## Strings\n",
    "\n",
    "- Strings are sequences of characters that make up a word\n",
    "- Strings must be wrapped in single or double quoates *there are caveats around which to use in certain cases which will be covered later*\n",
    "- Strings can be sliced (indexed from 0) that allow you to slice (create a subset) of a string"
   ]
  },
  {
   "cell_type": "code",
   "execution_count": 8,
   "id": "523c9b42",
   "metadata": {},
   "outputs": [
    {
     "name": "stdout",
     "output_type": "stream",
     "text": [
      "Hello, world\n",
      "I enjoy doing coding and my name's Tanner\n"
     ]
    }
   ],
   "source": [
    "print('Hello, world')\n",
    "# This is a string using 2 types of quotes (caveat called out in the notes above)\n",
    "print(\"I enjoy doing coding and my name's Tanner\")"
   ]
  },
  {
   "cell_type": "markdown",
   "id": "f59bf3e9",
   "metadata": {},
   "source": [
    "#### Multi-line strings\n",
    "\n",
    "- Multi-line strings are used to print / generate long strings\n",
    "- I see this a lot when building SQL queries in application code that is sent via a DB driver via a string generated in the language used"
   ]
  },
  {
   "cell_type": "code",
   "execution_count": 9,
   "id": "38b10160",
   "metadata": {
    "scrolled": true
   },
   "outputs": [
    {
     "name": "stdout",
     "output_type": "stream",
     "text": [
      "\n",
      "This is a multiline string \n",
      "\n",
      "I really like this\n",
      "\n"
     ]
    }
   ],
   "source": [
    "myParagraph = \"\"\"\n",
    "This is a multiline string \\n\n",
    "I really like this\n",
    "\"\"\"\n",
    "print(myParagraph)"
   ]
  },
  {
   "cell_type": "markdown",
   "id": "65a7f576",
   "metadata": {},
   "source": [
    "#### Printing the length of a string\n",
    "\n",
    "- This is useful when solving problems where a string is the primary input / predicate of some condition\n",
    "- Note the string interpolation / replacement (note the use of = sign. This allows us to print the variable name and value next to eachother) - This will be covered later in this notebook"
   ]
  },
  {
   "cell_type": "code",
   "execution_count": 7,
   "id": "73b42644",
   "metadata": {},
   "outputs": [
    {
     "name": "stdout",
     "output_type": "stream",
     "text": [
      "The length of the string strLen=16\n"
     ]
    }
   ],
   "source": [
    "myStr = 'this is a string'\n",
    "strLen = len(myStr)\n",
    "print(f'The length of the string {strLen=}')"
   ]
  },
  {
   "cell_type": "markdown",
   "id": "ff85b402",
   "metadata": {},
   "source": [
    "#### String slicing and indexing\n",
    "\n",
    "- Strings can be sliced and diced how you like and be indexable to get values / do some logic\n",
    "- Slicing has the syntax string[start:end:skip_count] where skip-count is optional and represents how many characters to skip over within the start:end\n",
    "- If start:end are empty, this means \"print it as in unless a skip is provided\" (Seen below)"
   ]
  },
  {
   "cell_type": "code",
   "execution_count": 19,
   "id": "ef922085",
   "metadata": {},
   "outputs": [
    {
     "name": "stdout",
     "output_type": "stream",
     "text": [
      "This slice represents printing only the even indexed characters of the string above -> Ia  elyco etneta sgnab lcd\n"
     ]
    }
   ],
   "source": [
    "mySentence = 'I am a really cool sentence that is gonna be sliced'\n",
    "mySlice = mySentence[::2] # empty slice but providing skip\n",
    "print(f'This slice represents printing only the even indexed characters of the string above -> {mySlice}')"
   ]
  },
  {
   "cell_type": "code",
   "execution_count": 22,
   "id": "f8035e03",
   "metadata": {},
   "outputs": [
    {
     "name": "stdout",
     "output_type": "stream",
     "text": [
      "n\n",
      "Tanner\n",
      "Tanner B\n",
      "er B\n",
      "Tann\n"
     ]
    }
   ],
   "source": [
    "myName = 'Tanner B'\n",
    "print(myName[2]) # print the 3rd character (2nd index) of the string -> 'n'\n",
    "\n",
    "# we can use the slicing to take a subset (not only sequences like the other example) -> this prints from  start to 6th index but not including it\n",
    "print(myName[0:6])\n",
    "\n",
    "# empty slice -> prints whole string\n",
    "print(myName[:])\n",
    "\n",
    "# start but no end -> prints start char to end\n",
    "print(myName[4:])\n",
    "\n",
    "# no start but explicit end -> prints from index 0 to < 4 (0,1,2,3)\n",
    "print(myName[:4])"
   ]
  },
  {
   "cell_type": "markdown",
   "id": "99d95014",
   "metadata": {},
   "source": [
    "#### String Properties and Methods\n",
    "\n",
    "- Methods are functions within the class they are defined that operate on the state (data) for that class\n",
    "- In string cases, the string data type is an object (instance of a class) that has many methods that can be used to operate on them"
   ]
  },
  {
   "cell_type": "markdown",
   "id": "3eef6d2b",
   "metadata": {},
   "source": [
    "#### Immutability\n",
    "\n",
    "- In python, Strings are immutable (meaning they cannot be changed)"
   ]
  },
  {
   "cell_type": "code",
   "execution_count": 1,
   "id": "f1881eb5",
   "metadata": {},
   "outputs": [
    {
     "ename": "TypeError",
     "evalue": "'str' object does not support item assignment",
     "output_type": "error",
     "traceback": [
      "\u001b[0;31m---------------------------------------------------------------------------\u001b[0m",
      "\u001b[0;31mTypeError\u001b[0m                                 Traceback (most recent call last)",
      "Cell \u001b[0;32mIn[1], line 2\u001b[0m\n\u001b[1;32m      1\u001b[0m name \u001b[38;5;241m=\u001b[39m \u001b[38;5;124m'\u001b[39m\u001b[38;5;124mTanner\u001b[39m\u001b[38;5;124m'\u001b[39m\n\u001b[0;32m----> 2\u001b[0m name[\u001b[38;5;241m0\u001b[39m] \u001b[38;5;241m=\u001b[39m \u001b[38;5;124m'\u001b[39m\u001b[38;5;124mBarc\u001b[39m\u001b[38;5;124m'\u001b[39m\n",
      "\u001b[0;31mTypeError\u001b[0m: 'str' object does not support item assignment"
     ]
    }
   ],
   "source": [
    "name = 'Tanner'\n",
    "name[0] = 'Barc'"
   ]
  },
  {
   "cell_type": "markdown",
   "id": "643c3482",
   "metadata": {},
   "source": [
    "- We can re-assign strings or concatenate strings to update them though!"
   ]
  },
  {
   "cell_type": "code",
   "execution_count": 4,
   "id": "6df276a2",
   "metadata": {},
   "outputs": [
    {
     "name": "stdout",
     "output_type": "stream",
     "text": [
      "TanBarc\n"
     ]
    }
   ],
   "source": [
    "newName = name[0:3] + 'Barc'\n",
    "print(newName)"
   ]
  },
  {
   "cell_type": "markdown",
   "id": "6f00fbbe",
   "metadata": {},
   "source": [
    "#### String Methods\n",
    "\n",
    "- Methods are functions that exist within the context of an instance of an object\n",
    "- Strings are just an object that have many methods that can manipulate the string\n",
    "- Some common methods are:\n",
    "    * `.upper()`\n",
    "    * `.lower()`\n",
    "    * `.title()`\n",
    "    * `.split(splitOn=' ')`\n",
    "    \n",
    "> [You can see more in the Python docs](https://docs.python.org/3/library/stdtypes.html#string-methods)"
   ]
  },
  {
   "cell_type": "code",
   "execution_count": 8,
   "id": "c8d3784e",
   "metadata": {},
   "outputs": [
    {
     "name": "stdout",
     "output_type": "stream",
     "text": [
      "Tanner Barcelos\n",
      "['Tanner', 'barcelos']\n"
     ]
    }
   ],
   "source": [
    "myName = 'Tanner barcelos'\n",
    "\n",
    "titleName = myName.title()\n",
    "splitName = myName.split()\n",
    "\n",
    "print(titleName)\n",
    "print(splitName)\n"
   ]
  },
  {
   "cell_type": "markdown",
   "id": "70344be8",
   "metadata": {},
   "source": [
    "#### String formatting (and with print)\n",
    "\n",
    "- The common approach for this is using the f-string syntax\n",
    "- String formatting is often also called \"string interpolation\". It is the process of dynamically injecting code into a string to generate dynamic expressions. \n",
    "- This is used heavily when writing APIs and doing database queries and having to inject data at run-time based off api calls (and many more use cases)"
   ]
  },
  {
   "cell_type": "code",
   "execution_count": 9,
   "id": "367984a0",
   "metadata": {},
   "outputs": [
    {
     "name": "stdout",
     "output_type": "stream",
     "text": [
      "Hi there, my name is Tanner and my last name is barcelos\n"
     ]
    }
   ],
   "source": [
    "firstName = myName.split()[0]\n",
    "lastName = myName.split()[1]\n",
    "greeting = f'Hi there, my name is {firstName} and my last name is {lastName}'\n",
    "print(greeting)"
   ]
  }
 ],
 "metadata": {
  "kernelspec": {
   "display_name": "Python 3 (ipykernel)",
   "language": "python",
   "name": "python3"
  },
  "language_info": {
   "codemirror_mode": {
    "name": "ipython",
    "version": 3
   },
   "file_extension": ".py",
   "mimetype": "text/x-python",
   "name": "python",
   "nbconvert_exporter": "python",
   "pygments_lexer": "ipython3",
   "version": "3.10.9"
  }
 },
 "nbformat": 4,
 "nbformat_minor": 5
}
