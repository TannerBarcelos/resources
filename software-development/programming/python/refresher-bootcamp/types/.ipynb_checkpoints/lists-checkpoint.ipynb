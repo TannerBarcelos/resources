{
 "cells": [
  {
   "cell_type": "markdown",
   "id": "59124b82",
   "metadata": {},
   "source": [
    "# Lists\n",
    "\n",
    "#### What are lists?\n",
    "- Lists are pythons version of an array\n",
    "- Lists are sequences of data that are linearly stored in-memory\n",
    "- Lists are ordered\n",
    "- Lists can hold 1 or many different types of data within them\n",
    "- Support indexing and slicing\n",
    "- Contain many methods"
   ]
  },
  {
   "cell_type": "code",
   "execution_count": 4,
   "id": "9e826beb",
   "metadata": {},
   "outputs": [],
   "source": [
    "my_list = [1, 2, 3, 4, 5]"
   ]
  },
  {
   "cell_type": "code",
   "execution_count": 5,
   "id": "a9aef5c1",
   "metadata": {},
   "outputs": [],
   "source": [
    "my_mixed_list = [1, 'tanner', {}, (1,2,3)]"
   ]
  },
  {
   "cell_type": "code",
   "execution_count": 7,
   "id": "217ff1cd",
   "metadata": {},
   "outputs": [
    {
     "data": {
      "text/plain": [
       "[1, 'tanner', {}, (1, 2, 3)]"
      ]
     },
     "execution_count": 7,
     "metadata": {},
     "output_type": "execute_result"
    }
   ],
   "source": [
    "my_mixed_list"
   ]
  },
  {
   "cell_type": "code",
   "execution_count": 11,
   "id": "b4de6f5f",
   "metadata": {},
   "outputs": [
    {
     "data": {
      "text/plain": [
       "5"
      ]
     },
     "execution_count": 11,
     "metadata": {},
     "output_type": "execute_result"
    }
   ],
   "source": [
    "len(my_list)"
   ]
  },
  {
   "cell_type": "code",
   "execution_count": 12,
   "id": "0c1647fb",
   "metadata": {},
   "outputs": [
    {
     "data": {
      "text/plain": [
       "'tanner'"
      ]
     },
     "execution_count": 12,
     "metadata": {},
     "output_type": "execute_result"
    }
   ],
   "source": [
    "my_mixed_list[1]"
   ]
  },
  {
   "cell_type": "code",
   "execution_count": 17,
   "id": "d7464c17",
   "metadata": {},
   "outputs": [
    {
     "name": "stdout",
     "output_type": "stream",
     "text": [
      "[{}, (1, 2, 3)]\n"
     ]
    }
   ],
   "source": [
    "sliced_list = my_mixed_list[2:]\n",
    "print(sliced_list)"
   ]
  },
  {
   "cell_type": "markdown",
   "id": "cf6201b4",
   "metadata": {},
   "source": [
    "### Adding, Removing and Sorting Elements in a List\n",
    "\n",
    "- Adding, removing and sorting items from lists are the most common operations on lists\n",
    "- You use these types of operations to make changes to data sequences and manipulate data"
   ]
  },
  {
   "cell_type": "markdown",
   "id": "1dc6c584",
   "metadata": {},
   "source": [
    "**Adding Elements to a list**\n",
    "- We achieve this using the `append()` method"
   ]
  },
  {
   "cell_type": "code",
   "execution_count": 20,
   "id": "45b74d20",
   "metadata": {},
   "outputs": [
    {
     "data": {
      "text/plain": [
       "[1, 2, 3, 4]"
      ]
     },
     "execution_count": 20,
     "metadata": {},
     "output_type": "execute_result"
    }
   ],
   "source": [
    "numbers = [1,2,3]\n",
    "numbers.append(4)\n",
    "numbers"
   ]
  },
  {
   "cell_type": "markdown",
   "id": "18eeb183",
   "metadata": {},
   "source": [
    "**Removing Elements from a list**\n",
    "* Removing is self explanatory\n",
    "* To remove elements from a list in Python, use the `pop()` method\n",
    "* By default, `pop()` removes from index -1 (end of list)."
   ]
  },
  {
   "cell_type": "code",
   "execution_count": 29,
   "id": "b74e5038",
   "metadata": {},
   "outputs": [
    {
     "name": "stdout",
     "output_type": "stream",
     "text": [
      "[2, 3, 4]\n"
     ]
    }
   ],
   "source": [
    "my_list = [1,2,3,4,5]\n",
    "my_list\n",
    "\n",
    "my_list.pop(0) # removes first element in the list\n",
    "my_list.pop() # removes end by default\n",
    "\n",
    "print(my_list)"
   ]
  },
  {
   "cell_type": "markdown",
   "id": "1757fa4c",
   "metadata": {},
   "source": [
    "**Sorting**\n",
    "\n",
    "* Sorting is self explanatory\n",
    "* Sorting happens in place, so it changes the underlying memory / data and DOES NOT RETURN A NEW SORTED ARRAY"
   ]
  },
  {
   "cell_type": "code",
   "execution_count": 40,
   "id": "d1e6d28b",
   "metadata": {},
   "outputs": [
    {
     "name": "stdout",
     "output_type": "stream",
     "text": [
      "None\n",
      "[-1000, -100, 0, 2, 2, 4, 44, 100, 500]\n"
     ]
    }
   ],
   "source": [
    "weird_list = [2, 0, -100, 500, 44, 2, 4, 100, -1000]\n",
    "s = weird_list.sort()\n",
    "print(s)  # prints None since sorting is in place\n",
    "\n",
    "print(weird_list) # prints the sorted list"
   ]
  },
  {
   "cell_type": "markdown",
   "id": "11cdd98d",
   "metadata": {},
   "source": [
    "* You can get around this by sorting then assigning the original list to a new value"
   ]
  },
  {
   "cell_type": "code",
   "execution_count": 1,
   "id": "a42655b2",
   "metadata": {},
   "outputs": [
    {
     "ename": "NameError",
     "evalue": "name 'weird_list' is not defined",
     "output_type": "error",
     "traceback": [
      "\u001b[0;31m---------------------------------------------------------------------------\u001b[0m",
      "\u001b[0;31mNameError\u001b[0m                                 Traceback (most recent call last)",
      "Cell \u001b[0;32mIn[1], line 1\u001b[0m\n\u001b[0;32m----> 1\u001b[0m sorted_list \u001b[38;5;241m=\u001b[39m \u001b[43mweird_list\u001b[49m\n\u001b[1;32m      2\u001b[0m sorted_list\n",
      "\u001b[0;31mNameError\u001b[0m: name 'weird_list' is not defined"
     ]
    }
   ],
   "source": [
    "sorted_list = weird_list\n",
    "sorted_list"
   ]
  },
  {
   "cell_type": "markdown",
   "id": "57663c74",
   "metadata": {},
   "source": [
    "**List Comprehension**\n",
    "\n",
    "- This is important. Idiomatic, pythonic code uses list comprehension a lot\n",
    "- List comprehension is the process of composing a lists from comprehending output from an expression"
   ]
  },
  {
   "cell_type": "code",
   "execution_count": 5,
   "id": "76736225",
   "metadata": {},
   "outputs": [
    {
     "name": "stdout",
     "output_type": "stream",
     "text": [
      "[10, 20, 30, 40, 50]\n",
      "[100, 225, 400, 625, 900, 1225, 1600, 2025, 2500]\n"
     ]
    }
   ],
   "source": [
    "lst = [10, 15, 20, 25, 30, 35, 40, 45, 50]\n",
    "even_nums = [num for num in lst if num % 2 == 0]\n",
    "print(even_nums)\n",
    "\n",
    "lst_squared = [x ** 2 for x in lst]\n",
    "print(lst_squared)"
   ]
  }
 ],
 "metadata": {
  "kernelspec": {
   "display_name": "Python 3 (ipykernel)",
   "language": "python",
   "name": "python3"
  },
  "language_info": {
   "codemirror_mode": {
    "name": "ipython",
    "version": 3
   },
   "file_extension": ".py",
   "mimetype": "text/x-python",
   "name": "python",
   "nbconvert_exporter": "python",
   "pygments_lexer": "ipython3",
   "version": "3.10.9"
  }
 },
 "nbformat": 4,
 "nbformat_minor": 5
}
