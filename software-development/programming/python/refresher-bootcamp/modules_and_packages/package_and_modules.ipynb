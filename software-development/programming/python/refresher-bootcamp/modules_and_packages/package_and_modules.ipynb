{
 "cells": [
  {
   "cell_type": "markdown",
   "id": "2f264fae",
   "metadata": {},
   "source": [
    "# Modules and Packages\n",
    "\n",
    "- Packages are just collections of code (functions, methods, functionality) that achieves something through code\n",
    "\n",
    "**These could be**\n",
    "* csv reader package\n",
    "* pretty print in the command line\n",
    "* PySpark to do data processing\n",
    "\n",
    "\n",
    "- Packages are hosted in a repository just like NPM does for NodeJS packages or other languages\n",
    "- Popular package repositories are **PyPi** and **Conda (Anaconda.org) and the various *channels***\n",
    "\n",
    "> To this point we have only used built-in packages. But in the real world, we use a lot of outside packages to help solve problems. To use them, we would use `pip` or `conda` to install, configure and run code using the downloaded packages\n",
    "\n",
    "\n",
    "**I prefer conda / anaconda due to my prior use of it in my jobs. Pip is fine and the more used solution. Conda offers a lot of data packages which is also why I use it + these Jupyter Notebooks**"
   ]
  },
  {
   "cell_type": "markdown",
   "id": "d16553f1",
   "metadata": {},
   "source": [
    "## Outside package usage example\n",
    "\n",
    "- Install a HTTP request library called **[requests](https://requests.readthedocs.io/en/latest/user/quickstart/)** which is used to make API calls to 3rd party APIs\n",
    "\n",
    "> Since I am using Anaconda and Jupyter Notebooks, requests is already pre-installed so I could have avoided downloading it. However, since real workloads for apps are done in IDE's and deployed as binaries to target environments, Jupyter is not used and therefore demonstrating how to download is imperative. See the linked Conda docs [here](https://docs.conda.io/en/latest/) to learn more about the conda package and environment manager"
   ]
  },
  {
   "cell_type": "code",
   "execution_count": 2,
   "id": "9e29fe24",
   "metadata": {},
   "outputs": [
    {
     "name": "stdout",
     "output_type": "stream",
     "text": [
      "Retrieving notices: ...working... done\n",
      "Collecting package metadata (current_repodata.json): done\n",
      "Solving environment: done\n",
      "\n",
      "\n",
      "==> WARNING: A newer version of conda exists. <==\n",
      "  current version: 23.3.1\n",
      "  latest version: 23.5.0\n",
      "\n",
      "Please update conda by running\n",
      "\n",
      "    $ conda update -n base -c defaults conda\n",
      "\n",
      "Or to minimize the number of packages updated during conda update use\n",
      "\n",
      "     conda install conda=23.5.0\n",
      "\n",
      "\n",
      "\n",
      "## Package Plan ##\n",
      "\n",
      "  environment location: /Users/tannerbarcelos/anaconda3\n",
      "\n",
      "  added / updated specs:\n",
      "    - requests\n",
      "\n",
      "\n",
      "The following packages will be downloaded:\n",
      "\n",
      "    package                    |            build\n",
      "    ---------------------------|-----------------\n",
      "    certifi-2023.5.7           |     pyhd8ed1ab_0         149 KB  conda-forge\n",
      "    openssl-1.1.1u             |       h53f4e23_0         1.6 MB  conda-forge\n",
      "    requests-2.31.0            |     pyhd8ed1ab_0          55 KB  conda-forge\n",
      "    ------------------------------------------------------------\n",
      "                                           Total:         1.8 MB\n",
      "\n",
      "The following packages will be UPDATED:\n",
      "\n",
      "  requests           pkgs/main/osx-arm64::requests-2.28.1-~ --> conda-forge/noarch::requests-2.31.0-pyhd8ed1ab_0 \n",
      "\n",
      "The following packages will be SUPERSEDED by a higher-priority channel:\n",
      "\n",
      "  ca-certificates    pkgs/main::ca-certificates-2023.05.30~ --> conda-forge::ca-certificates-2023.5.7-hf0a4a13_0 \n",
      "  certifi            pkgs/main/osx-arm64::certifi-2023.5.7~ --> conda-forge/noarch::certifi-2023.5.7-pyhd8ed1ab_0 \n",
      "  openssl              pkgs/main::openssl-1.1.1u-h1a28f6b_0 --> conda-forge::openssl-1.1.1u-h53f4e23_0 \n",
      "\n",
      "\n",
      "\n",
      "Downloading and Extracting Packages\n",
      "certifi-2023.5.7     | 149 KB    |                                       |   0% \n",
      "requests-2.31.0      | 55 KB     |                                       |   0% \u001b[A\n",
      "\n",
      "openssl-1.1.1u       | 1.6 MB    |                                       |   0% \u001b[A\u001b[A\n",
      "certifi-2023.5.7     | 149 KB    | ###9                                  |  11% \u001b[A\n",
      "certifi-2023.5.7     | 149 KB    | ##################################### | 100% \u001b[A\n",
      "\n",
      "openssl-1.1.1u       | 1.6 MB    | 3                                     |   1% \u001b[A\u001b[A\n",
      "\n",
      "openssl-1.1.1u       | 1.6 MB    | ################4                     |  45% \u001b[A\u001b[A\n",
      "\n",
      "openssl-1.1.1u       | 1.6 MB    | ##################################### | 100% \u001b[A\u001b[A\n",
      "\n",
      "                                                                                \u001b[A\u001b[A\n",
      "                                                                                \u001b[A\n",
      "\n",
      "                                                                                \u001b[A\u001b[A\n",
      "Preparing transaction: done\n",
      "Verifying transaction: done\n",
      "Executing transaction: done\n",
      "\n",
      "Note: you may need to restart the kernel to use updated packages.\n"
     ]
    }
   ],
   "source": [
    "conda install -c conda-forge requests"
   ]
  },
  {
   "cell_type": "markdown",
   "id": "c9dc9e0f",
   "metadata": {},
   "source": [
    "- Use the requests library to programatically request data from the github public timeline"
   ]
  },
  {
   "cell_type": "code",
   "execution_count": 25,
   "id": "8fcbeec8",
   "metadata": {},
   "outputs": [
    {
     "name": "stdout",
     "output_type": "stream",
     "text": [
      "30108179695\n",
      "bonifield\n",
      "30108179664\n",
      "proxy4parsing\n",
      "30108179672\n",
      "qkr1839\n",
      "30108179658\n",
      "apus116\n",
      "30108179646\n",
      "github-actions\n",
      "30108179669\n",
      "sportstvdev\n",
      "30108179649\n",
      "Dimiqhz\n",
      "30108179627\n",
      "rmayr\n",
      "30108179606\n",
      "thevickypedia\n",
      "30108179579\n",
      "github-actions\n",
      "30108179611\n",
      "Lunakepio\n",
      "30108179616\n",
      "costellobot\n",
      "30108179580\n",
      "skasturi\n",
      "30108179607\n",
      "github-actions\n",
      "30108179593\n",
      "TylerHendrickson\n",
      "30108179597\n",
      "Monica-Macharia\n",
      "30108179574\n",
      "github-actions\n",
      "30108179565\n",
      "jamsheerply\n",
      "30108179542\n",
      "zirklbch\n",
      "30108179546\n",
      "mihir-gautam\n",
      "30108179544\n",
      "gouniLee\n",
      "30108179560\n",
      "pctiope\n",
      "30108179534\n",
      "thiwashwe\n",
      "30108179530\n",
      "aws-aemilia-fra\n",
      "30108179533\n",
      "github-actions\n",
      "30108179540\n",
      "Baeg-won\n",
      "30108179497\n",
      "predictcrypto\n",
      "30108179536\n",
      "supershell2019\n",
      "30108179522\n",
      "jatinchowdhury18\n",
      "30108179519\n",
      "github-actions\n"
     ]
    }
   ],
   "source": [
    "import requests\n",
    "\n",
    "# Request the endpoint\n",
    "url = 'https://api.github.com/events'\n",
    "public_tl = requests.get(url)\n",
    "\n",
    "# Convert the raw response data into JSON for easier parsing\n",
    "tl_json = public_tl.json()\n",
    "\n",
    "# Let's analyze the data\n",
    "# print(tl_json)\n",
    "\n",
    "for blob in tl_json:\n",
    "#     print(type(blob)) # notice the type of each entry in the json body is converted to a dict for us by using the .json() method! Nice!\n",
    "    \n",
    "    # get event id\n",
    "    print(blob.get('id'))\n",
    "    \n",
    "    # get use that produced the event (using key indexing instead of .get().. we see this a lot in complex, nested structures we want to extract data from)\n",
    "    print(blob['actor']['display_login'])"
   ]
  },
  {
   "cell_type": "markdown",
   "id": "d7832a08",
   "metadata": {},
   "source": [
    "**This right here is how we would download and use external packages to write code to do things beyond the core capabilties of Python out of the box and/or avoid having to do it from scratch and use a library to make out lives easier**"
   ]
  },
  {
   "cell_type": "markdown",
   "id": "c67288e0",
   "metadata": {},
   "source": [
    "### Modules\n",
    "\n",
    "- In Python, every file is considered a module. This means that each file can be imported to another and used to create a complex hierarchy / organized codebase of modules and files to separate concerns\n",
    "- **Packages are a collection of modules**! (When publishing a package or deploying, you package all your modules into a single binary package)\n",
    "\n",
    "**Let's see how to create multiple modules and use them within a root file called `main.py`**"
   ]
  },
  {
   "cell_type": "markdown",
   "id": "3875591f",
   "metadata": {},
   "source": [
    "> This has to be done using a Text Editor / IDE so within the folder of this Notebook, I will create a directory called mod_demo and within it will be multiple modules to show how to use and import them"
   ]
  }
 ],
 "metadata": {
  "kernelspec": {
   "display_name": "Python 3 (ipykernel)",
   "language": "python",
   "name": "python3"
  },
  "language_info": {
   "codemirror_mode": {
    "name": "ipython",
    "version": 3
   },
   "file_extension": ".py",
   "mimetype": "text/x-python",
   "name": "python",
   "nbconvert_exporter": "python",
   "pygments_lexer": "ipython3",
   "version": "3.10.9"
  }
 },
 "nbformat": 4,
 "nbformat_minor": 5
}
