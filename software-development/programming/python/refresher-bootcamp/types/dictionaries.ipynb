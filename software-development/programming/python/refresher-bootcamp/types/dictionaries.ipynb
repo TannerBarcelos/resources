{
 "cells": [
  {
   "cell_type": "markdown",
   "id": "a437a7a9",
   "metadata": {},
   "source": [
    "# Dictionaries\n",
    "\n",
    "* Dictionaries are pythons version of a JavaScript Object (or more strictly, the abstract data type `Hashmap`)\n",
    "* They are collections of key-value pairs\n",
    "* They also contain many methods for operation\n",
    "* Can contain different types just like lists, but all keys are strings\n",
    "\n",
    "> If you come from a JS background, you know Objects (Hashmaps {Dictionaries in Python} ) can be shortened when the key/value have the same name. This means instead of doing key=value, you'd just do 'some_thing'. In Python, this syntactical sugar does not exist. All use-cases of dictionaries require setting a key = val\n",
    "\n",
    "[See the docs here](https://docs.python.org/3/library/stdtypes.html#dict)"
   ]
  },
  {
   "cell_type": "code",
   "execution_count": 9,
   "id": "b4fc3323",
   "metadata": {},
   "outputs": [
    {
     "name": "stdout",
     "output_type": "stream",
     "text": [
      "{'name': 'tanner barcelos', 'age': 27, 'hobbies': ['Golf', 'Code', 'Finance']}\n"
     ]
    }
   ],
   "source": [
    "person = {'name': 'tanner barcelos', 'age': 27, 'hobbies': ['Golf', 'Code', 'Finance']}\n",
    "print(person)"
   ]
  },
  {
   "cell_type": "markdown",
   "id": "1582effd",
   "metadata": {},
   "source": [
    "- We can check if a key exists in a dictionary (Regardless if we know it does or does not) using the `in` keyword\n",
    "- This keyword works for iterators in lists as well"
   ]
  },
  {
   "cell_type": "code",
   "execution_count": 7,
   "id": "96005c3e",
   "metadata": {},
   "outputs": [
    {
     "name": "stdout",
     "output_type": "stream",
     "text": [
      "False\n",
      "The persons name is Tanner Barcelos and their age is 27\n"
     ]
    }
   ],
   "source": [
    "person_name = ''\n",
    "person_age = ''\n",
    "\n",
    "# We know name and age are defined in the Dictionary however it is best to always assume no keys are defined. \n",
    "# This allows us to write code that is guarenteed to not break because we get the housekeeping (checks of keys \n",
    "# existing or not using the `in` keyword) ahead of time\n",
    "if 'name' in person:\n",
    "    person_name = person['name']\n",
    "if 'age' in person:\n",
    "    person_age = person['age']\n",
    "\n",
    "print(\"blah\" in person) # how to check if a key exists in a dictionary incase you don't know it does.\n",
    "\n",
    "print(f'The persons name is {person_name.title()} and their age is {person_age}')"
   ]
  },
  {
   "cell_type": "code",
   "execution_count": 18,
   "id": "1a268d7e",
   "metadata": {},
   "outputs": [
    {
     "name": "stdout",
     "output_type": "stream",
     "text": [
      "Hi, what is the price of steak?\n",
      "The price of steak is $29.99\n"
     ]
    }
   ],
   "source": [
    "price_lkp_tbl = {'apples': 2.99, 'bananas': 4.00, 'steak': 29.99}\n",
    "\n",
    "print('Hi, what is the price of steak?')\n",
    "print(f'The price of steak is ${price_lkp_tbl[\"steak\"]}')"
   ]
  },
  {
   "cell_type": "markdown",
   "id": "6d14eb52",
   "metadata": {},
   "source": [
    "Notice how I am now starting to combine expressions, string methods, formatting etc. into my statements! You might learn these things in sections like this notebook is designed, but every layer stacks on top of each other and this is what coding is!"
   ]
  },
  {
   "cell_type": "markdown",
   "id": "6c0cd10e",
   "metadata": {},
   "source": [
    "**Get all keys in a dictionary**"
   ]
  },
  {
   "cell_type": "code",
   "execution_count": 24,
   "id": "76b5a58e",
   "metadata": {},
   "outputs": [
    {
     "data": {
      "text/plain": [
       "dict_keys(['name', 'age'])"
      ]
     },
     "execution_count": 24,
     "metadata": {},
     "output_type": "execute_result"
    }
   ],
   "source": [
    "person_keys = person.keys()\n",
    "person_keys"
   ]
  },
  {
   "cell_type": "markdown",
   "id": "b4b8ea22",
   "metadata": {},
   "source": [
    "**Get all values in a dictionary**"
   ]
  },
  {
   "cell_type": "code",
   "execution_count": 31,
   "id": "1b9c2b5d",
   "metadata": {},
   "outputs": [
    {
     "data": {
      "text/plain": [
       "dict_values(['tanner barcelos', 27])"
      ]
     },
     "execution_count": 31,
     "metadata": {},
     "output_type": "execute_result"
    }
   ],
   "source": [
    "person_vals = person.values()\n",
    "person_vals"
   ]
  },
  {
   "cell_type": "markdown",
   "id": "9015e1e8",
   "metadata": {},
   "source": [
    "**Dictionaries can contain nested dictionaries**"
   ]
  },
  {
   "cell_type": "code",
   "execution_count": 2,
   "id": "5495a76b",
   "metadata": {},
   "outputs": [
    {
     "name": "stdout",
     "output_type": "stream",
     "text": [
      "{'name': 'Nick Bosa', 'age': 25, 'hobbies': ['Football', 'Gym'], 'attrs': {'position': 'DE', 'handedness': 'right', 'is_multi_positional': True}}\n"
     ]
    }
   ],
   "source": [
    "person_2 = {\n",
    "    'name': 'Nick Bosa',\n",
    "    'age': 25,\n",
    "    'hobbies': ['Football', 'Gym'],\n",
    "    'attrs': {\n",
    "        'position': 'DE',\n",
    "        'handedness': 'right',\n",
    "        'is_multi_positional': True\n",
    "    }\n",
    "    \n",
    "}\n",
    "\n",
    "print(person_2)"
   ]
  },
  {
   "cell_type": "markdown",
   "id": "94bc439a",
   "metadata": {},
   "source": [
    "**Adding and removing keys**"
   ]
  },
  {
   "cell_type": "code",
   "execution_count": 3,
   "id": "456c419a",
   "metadata": {},
   "outputs": [
    {
     "name": "stdout",
     "output_type": "stream",
     "text": [
      "{'name': 'Nick Bosa', 'hobbies': ['Football', 'Gym'], 'attrs': {'position': 'DE', 'handedness': 'right', 'is_multi_positional': True}, 'team': '49ers'}\n"
     ]
    }
   ],
   "source": [
    "person_2['team'] = '49ers'\n",
    "\n",
    "del person_2['age'] # del keyword is used to 'delete' a key/val from a dictionary\n",
    " \n",
    "print(person_2)\n",
    "\n",
    "# person_2.pop('hobbies') #deltes and returns the popped value"
   ]
  },
  {
   "cell_type": "markdown",
   "id": "b72570ed",
   "metadata": {},
   "source": [
    "**Getting a value or adding it to a dictionary in 1 go**\n",
    "\n",
    "* This is a valuable method. If you are trying to get a value in a Dictionary you can use the `get()` or indexing syntax to get a key, but if it does not exist, None (null/undefined) is returned and can cause errors in your code. To handle this, you could use if/else OR use a better way with a built in method called `setdefault()`"
   ]
  },
  {
   "cell_type": "code",
   "execution_count": 5,
   "id": "ce4372ae",
   "metadata": {},
   "outputs": [
    {
     "name": "stdout",
     "output_type": "stream",
     "text": [
      "None\n"
     ]
    }
   ],
   "source": [
    "print(person_2.get('age'))"
   ]
  },
  {
   "cell_type": "markdown",
   "id": "39564189",
   "metadata": {},
   "source": [
    "Age is none! and therefore None is returned. Let's fix this by using the `setdefault()` method to assure that if the value is None (does not exist), we add it in-line to avoid issues. "
   ]
  },
  {
   "cell_type": "code",
   "execution_count": 6,
   "id": "80e7da61",
   "metadata": {},
   "outputs": [
    {
     "data": {
      "text/plain": [
       "25"
      ]
     },
     "execution_count": 6,
     "metadata": {},
     "output_type": "execute_result"
    }
   ],
   "source": [
    "# get the age property if it exists, else set it and define a value for the age key\n",
    "person_2.setdefault('age', 25)"
   ]
  },
  {
   "cell_type": "code",
   "execution_count": 7,
   "id": "14816241",
   "metadata": {},
   "outputs": [
    {
     "data": {
      "text/plain": [
       "{'name': 'Nick Bosa',\n",
       " 'hobbies': ['Football', 'Gym'],\n",
       " 'attrs': {'position': 'DE',\n",
       "  'handedness': 'right',\n",
       "  'is_multi_positional': True},\n",
       " 'team': '49ers',\n",
       " 'age': 25}"
      ]
     },
     "execution_count": 7,
     "metadata": {},
     "output_type": "execute_result"
    }
   ],
   "source": [
    "person_2"
   ]
  },
  {
   "cell_type": "markdown",
   "id": "41492c30",
   "metadata": {},
   "source": [
    "### Practice"
   ]
  },
  {
   "cell_type": "markdown",
   "id": "58e85f24",
   "metadata": {},
   "source": [
    "#### 2 Sum Problem\n",
    "- Given 2 values that sum up to a target, see if those 2 numbers exist in a list"
   ]
  },
  {
   "cell_type": "code",
   "execution_count": 13,
   "id": "a100252b",
   "metadata": {},
   "outputs": [
    {
     "name": "stdout",
     "output_type": "stream",
     "text": [
      "[0, 3]\n"
     ]
    }
   ],
   "source": [
    "lst = [2, 5, 10, 7, 4]\n",
    "target = 9\n",
    "\n",
    "def two_sum(nums, target):\n",
    "        ct = {}\n",
    "        for i, v in enumerate(nums):\n",
    "            c = target - v\n",
    "            if c in ct:\n",
    "                return [ct[c], i]\n",
    "            ct[v] = i\n",
    "        return None\n",
    "\n",
    "print(two_sum(lst, target)) # [0, 3] as 7 + 2 = 9"
   ]
  }
 ],
 "metadata": {
  "kernelspec": {
   "display_name": "Python 3 (ipykernel)",
   "language": "python",
   "name": "python3"
  },
  "language_info": {
   "codemirror_mode": {
    "name": "ipython",
    "version": 3
   },
   "file_extension": ".py",
   "mimetype": "text/x-python",
   "name": "python",
   "nbconvert_exporter": "python",
   "pygments_lexer": "ipython3",
   "version": "3.10.9"
  }
 },
 "nbformat": 4,
 "nbformat_minor": 5
}
