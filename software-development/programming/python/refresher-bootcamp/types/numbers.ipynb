{
 "cells": [
  {
   "cell_type": "markdown",
   "id": "143a4454",
   "metadata": {},
   "source": [
    "## Numbers and Arithmetic\n",
    "\n",
    "Numbers represent exactly what they sound like and they have multiple types\n",
    "\n",
    "* Integers\n",
    "* Floats"
   ]
  },
  {
   "cell_type": "code",
   "execution_count": 6,
   "id": "88bc6acc",
   "metadata": {},
   "outputs": [
    {
     "name": "stdout",
     "output_type": "stream",
     "text": [
      "3\n",
      "2\n",
      "6\n",
      "0.5\n",
      "4\n",
      "1\n"
     ]
    }
   ],
   "source": [
    "# We can add them using the addition operator\n",
    "print(2 + 1)\n",
    "\n",
    "# We can Substract them using the substraction operator\n",
    "print(3 - 1)\n",
    "\n",
    "# We can multiply them using the multiplication operator\n",
    "print(3 * 2)\n",
    "\n",
    "# We can divide them using the division operator\n",
    "print(1 / 2) # What is this output??\n",
    "\n",
    "# We can exponentialize them using the exponent operator\n",
    "print(2 ** 2) # means \"2 to the power of 2\"\n",
    "\n",
    "# We can take the remainder using the modulo operator\n",
    "print(5 % 2) # 1"
   ]
  },
  {
   "cell_type": "markdown",
   "id": "d9f6e77e",
   "metadata": {},
   "source": [
    "#### Variables"
   ]
  },
  {
   "cell_type": "code",
   "execution_count": 11,
   "id": "27d23100",
   "metadata": {},
   "outputs": [
    {
     "name": "stdout",
     "output_type": "stream",
     "text": [
      "60\n"
     ]
    }
   ],
   "source": [
    "a = 10\n",
    "b = 20\n",
    "res = a + b\n",
    "res = res * 2 # variables can be re-assigned values because everything in Python is dynamic\n",
    "print(res)"
   ]
  }
 ],
 "metadata": {
  "kernelspec": {
   "display_name": "Python 3 (ipykernel)",
   "language": "python",
   "name": "python3"
  },
  "language_info": {
   "codemirror_mode": {
    "name": "ipython",
    "version": 3
   },
   "file_extension": ".py",
   "mimetype": "text/x-python",
   "name": "python",
   "nbconvert_exporter": "python",
   "pygments_lexer": "ipython3",
   "version": "3.10.9"
  }
 },
 "nbformat": 4,
 "nbformat_minor": 5
}
