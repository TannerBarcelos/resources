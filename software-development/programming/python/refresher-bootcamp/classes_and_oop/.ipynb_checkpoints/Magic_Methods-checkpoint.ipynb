{
 "cells": [
  {
   "cell_type": "code",
   "execution_count": 23,
   "id": "67016209",
   "metadata": {},
   "outputs": [
    {
     "name": "stdout",
     "output_type": "stream",
     "text": [
      "Book created\n",
      "\n",
      "                Book Name: Harry Potty\n",
      "\n",
      "                Book Author: JK Rowling\n",
      "\n",
      "                Book Length: 2000\n",
      "                \n",
      "\n",
      "                Book Name: Harry Potty\n",
      "\n",
      "                Book Author: JK Rowling\n",
      "\n",
      "                Book Length: 2000\n",
      "                \n",
      "Book length is 2000\n",
      "Book removed from shelf\n"
     ]
    }
   ],
   "source": [
    "class Book():\n",
    "    def __init__(self, name, author, pages):\n",
    "        self.name = name\n",
    "        self.author = author\n",
    "        self.pages = pages\n",
    "        print('Book created')\n",
    "        \n",
    "    # Magic dunder method - returns string representation of the instance created\n",
    "    def __str__(self):\n",
    "        return f\"\"\"\n",
    "                Book Name: {self.name}\\n\n",
    "                Book Author: {self.author}\\n\n",
    "                Book Length: {self.pages}\n",
    "                \"\"\"\n",
    "    \n",
    "    # Magic dunder method - returns the length of some attribute in the class - in our case, the length of a book object / instance\n",
    "    def __len__(self):\n",
    "        return self.pages\n",
    "    \n",
    "    def __del__(self):\n",
    "        print(\"Book removed from shelf\")\n",
    "    \n",
    "# Usage\n",
    "book = Book('Harry Potty', 'JK Rowling', 2000)\n",
    "print(book) # runs the __str__ method\n",
    "print(str(book)) # can also print string representation like this\n",
    "print(f\"Book length is {len(book)}\") # returns length of the book\n",
    "\n",
    "del book"
   ]
  }
 ],
 "metadata": {
  "kernelspec": {
   "display_name": "Python 3 (ipykernel)",
   "language": "python",
   "name": "python3"
  },
  "language_info": {
   "codemirror_mode": {
    "name": "ipython",
    "version": 3
   },
   "file_extension": ".py",
   "mimetype": "text/x-python",
   "name": "python",
   "nbconvert_exporter": "python",
   "pygments_lexer": "ipython3",
   "version": "3.10.9"
  }
 },
 "nbformat": 4,
 "nbformat_minor": 5
}
