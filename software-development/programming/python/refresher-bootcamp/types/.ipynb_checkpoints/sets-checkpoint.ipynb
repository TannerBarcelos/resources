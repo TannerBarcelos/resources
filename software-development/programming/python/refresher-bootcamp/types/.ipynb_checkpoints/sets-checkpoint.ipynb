{
 "cells": [
  {
   "cell_type": "markdown",
   "id": "924f3457",
   "metadata": {},
   "source": [
    "### Sets\n",
    "- Sets are similar to lists / arrays such that they are collections of sequenced data however sets are **unique** , **cannot contain duplicates** and are **unordered**\n",
    "\n",
    "- Learn more [here](https://www.w3schools.com/python/python_sets.asp)\n",
    "- Full docs [here](https://docs.python.org/3/library/stdtypes.html#set-types-set-frozenset)"
   ]
  },
  {
   "cell_type": "code",
   "execution_count": 1,
   "id": "f51a1965",
   "metadata": {},
   "outputs": [
    {
     "name": "stdout",
     "output_type": "stream",
     "text": [
      "{1, 2, 3, 4, 5}\n",
      "{1, 2, 3, 4, 5}\n",
      "{1, 2, 3, 4, 5, 6}\n",
      "{'e', 'r', 'c', 'a', 'l', 't', 'o', 's', 'b', 'n'}\n",
      "{'e', 'r', 'c', 'a', 'l', 't', ' ', 'o', 'b', 'n', 's'}\n",
      "None\n",
      "None\n"
     ]
    }
   ],
   "source": [
    "st = [1, 2, 3, 4, 5]\n",
    "set1 = set(st)\n",
    "print(set1)\n",
    "\n",
    "# you can also use the set constructor to create a set in-line\n",
    "set2 = set((1, 2, 3, 4, 5))\n",
    "print(set2)\n",
    "\n",
    "if 6 not in set2:\n",
    "    set2.add(6)\n",
    "    print(set2)\n",
    "\n",
    "# set comprehension - get all characters in a sentence without duplicates. This is done without a separate loop\n",
    "name = 'tanner barcelos'\n",
    "set3 = {char for char in name if char != ' '}\n",
    "\n",
    "# with a sep loop and set constructor\n",
    "name_set = set()\n",
    "for char in name:\n",
    "    if char != \" \":\n",
    "        name_set.add(char)\n",
    "        \n",
    "print(name_set)\n",
    "\n",
    "# Used in algoritms a lot. This will remove all duplicates from a string or list / collection\n",
    "# we pass in. THis is easier than the above ways for looping / set comprehension\n",
    "print(set(name))\n",
    "\n",
    "# remove set item\n",
    "print(name_set.remove('n')) # raises error if not exists. To handle this, use .discard()\n",
    "\n",
    "print(name_set.discard('t'))\n",
    "\n",
    "# delete whole set\n",
    "del name_set\n",
    "\n",
    "# print(name_set) # raises error\n"
   ]
  },
  {
   "cell_type": "markdown",
   "id": "7ddce51c",
   "metadata": {},
   "source": [
    "**All set methods can be found [here](https://www.w3schools.com/python/python_sets_methods.asp)**"
   ]
  }
 ],
 "metadata": {
  "kernelspec": {
   "display_name": "Python 3 (ipykernel)",
   "language": "python",
   "name": "python3"
  },
  "language_info": {
   "codemirror_mode": {
    "name": "ipython",
    "version": 3
   },
   "file_extension": ".py",
   "mimetype": "text/x-python",
   "name": "python",
   "nbconvert_exporter": "python",
   "pygments_lexer": "ipython3",
   "version": "3.10.9"
  }
 },
 "nbformat": 4,
 "nbformat_minor": 5
}
