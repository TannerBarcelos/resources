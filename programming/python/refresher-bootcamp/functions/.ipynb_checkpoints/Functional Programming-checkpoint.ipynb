{
 "cells": [
  {
   "cell_type": "markdown",
   "id": "a7261ee8",
   "metadata": {},
   "source": [
    "# Functional Programming"
   ]
  },
  {
   "cell_type": "markdown",
   "id": "a1b9846d",
   "metadata": {},
   "source": [
    "**Lambda functions**\n",
    "\n",
    "- Unamed, reusable functions that are passed as arguments in other function"
   ]
  },
  {
   "cell_type": "code",
   "execution_count": 32,
   "id": "b74432cb",
   "metadata": {},
   "outputs": [
    {
     "name": "stdout",
     "output_type": "stream",
     "text": [
      "12\n"
     ]
    }
   ],
   "source": [
    "lm = lambda x: x + 2\n",
    "print(lm(10))\n",
    "\n",
    "# This is just like arrow functions in JS\n",
    "# const lm = x => x + 2"
   ]
  },
  {
   "cell_type": "markdown",
   "id": "3e375934",
   "metadata": {},
   "source": [
    "#### `map()`, `filter()`\n",
    "\n",
    "- `map()` and `filter()` both take in lambda / functions as an argument and a list to perform that function on each of the items in the list"
   ]
  },
  {
   "cell_type": "markdown",
   "id": "82b132b0",
   "metadata": {},
   "source": [
    "**`map()` usage**\n",
    "\n",
    "- `map()` takes in a func and a list\n",
    "- **does not mutate the original list**. It returns a map object which represents a new collection with the lamdba applied"
   ]
  },
  {
   "cell_type": "code",
   "execution_count": 14,
   "id": "182f0775",
   "metadata": {},
   "outputs": [
    {
     "name": "stdout",
     "output_type": "stream",
     "text": [
      "[4, 8, 6, 14, 20, 82]\n",
      "[True, True, False, False, True, False]\n"
     ]
    }
   ],
   "source": [
    "lst = [2, 4, 3, 7, 10, 41]\n",
    "doubled = map(lambda x: x * 2, lst) # returns a <map> so need to convert to list\n",
    "print(list(doubled))\n",
    "\n",
    "\n",
    "# We can also define a function and pass that in as well - just like JS, you don't need lambdas, it is just common\n",
    "def is_even(num):\n",
    "    return num % 2 == 0\n",
    "\n",
    "print(list(map(is_even, lst)))"
   ]
  },
  {
   "cell_type": "markdown",
   "id": "6efc7305",
   "metadata": {},
   "source": [
    "**`filter()` usage**\n",
    "\n",
    "* `filter()` takes in a func and a list\n",
    "* used to filter out values in a list based on some predicate within the func\n",
    "* **does not mutate the original list**\n",
    "* returns filter object of the filtered list"
   ]
  },
  {
   "cell_type": "code",
   "execution_count": 29,
   "id": "9e067ff9",
   "metadata": {},
   "outputs": [
    {
     "name": "stdout",
     "output_type": "stream",
     "text": [
      "[2, 4, 10]\n"
     ]
    }
   ],
   "source": [
    "filterer = filter(is_even, lst)\n",
    "evens = list(filterer)\n",
    "print(evens)\n",
    "\n",
    "# filtered out all the odds"
   ]
  }
 ],
 "metadata": {
  "kernelspec": {
   "display_name": "Python 3 (ipykernel)",
   "language": "python",
   "name": "python3"
  },
  "language_info": {
   "codemirror_mode": {
    "name": "ipython",
    "version": 3
   },
   "file_extension": ".py",
   "mimetype": "text/x-python",
   "name": "python",
   "nbconvert_exporter": "python",
   "pygments_lexer": "ipython3",
   "version": "3.10.9"
  }
 },
 "nbformat": 4,
 "nbformat_minor": 5
}
