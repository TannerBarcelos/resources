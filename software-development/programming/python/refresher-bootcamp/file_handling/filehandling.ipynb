{
 "cells": [
  {
   "cell_type": "markdown",
   "id": "bb3d62cb",
   "metadata": {},
   "source": [
    "### File Handling\n",
    "\n",
    "- File handling is the process of I/O with reading and writing files using Python\n",
    "- We can read files, analyze them, edit, and save them for later"
   ]
  },
  {
   "cell_type": "code",
   "execution_count": 5,
   "id": "37439eb3",
   "metadata": {},
   "outputs": [
    {
     "data": {
      "text/plain": [
       "'/Users/tannerbarcelos/Documents/dev/programming/python/refresher-bootcamp/files'"
      ]
     },
     "execution_count": 5,
     "metadata": {},
     "output_type": "execute_result"
    }
   ],
   "source": [
    "pwd"
   ]
  },
  {
   "cell_type": "code",
   "execution_count": 12,
   "id": "e279d749",
   "metadata": {},
   "outputs": [],
   "source": [
    "file = open('file.txt')"
   ]
  },
  {
   "cell_type": "markdown",
   "id": "1e536af8",
   "metadata": {},
   "source": [
    "To read the contents of a file after opening it, use the `.read()` method"
   ]
  },
  {
   "cell_type": "code",
   "execution_count": 13,
   "id": "36780560",
   "metadata": {},
   "outputs": [],
   "source": [
    "file_content = file.read()"
   ]
  },
  {
   "cell_type": "code",
   "execution_count": 14,
   "id": "bb8d24c7",
   "metadata": {
    "scrolled": true
   },
   "outputs": [
    {
     "name": "stdout",
     "output_type": "stream",
     "text": [
      "Lorem ipsum dolor sit amet, consectetur adipiscing elit. Nam id eros imperdiet, mollis ex eu, venenatis dolor. Class aptent taciti sociosqu ad litora torquent per conubia nostra, per inceptos himenaeos. Vivamus blandit, ligula quis vulputate vestibulum, velit odio scelerisque enim, nec tempus libero massa tempor massa. Integer erat massa, sollicitudin non fermentum id, tempus in mauris. Nulla aliquam eu est lobortis rhoncus. Aliquam nec malesuada dolor. Nam eu tempor neque, in aliquet turpis. Nulla nulla est, facilisis a sodales at, vulputate vel risus. Mauris sodales ultrices sem sit amet luctus. Nunc commodo, dui facilisis fermentum aliquet, tellus velit efficitur lorem, in gravida nulla mi quis enim.\n",
      "\n",
      "Praesent dictum lacus sed bibendum aliquam. Sed iaculis tristique placerat. Praesent arcu nunc, tempor bibendum turpis non, ullamcorper sollicitudin neque. Aenean blandit, est gravida rutrum sodales, lectus sem gravida tellus, et posuere lacus ligula et nisl. Morbi sagittis, felis in pretium cursus, ante lectus condimentum massa, quis scelerisque neque nisi non velit. Sed elit mi, condimentum at neque sed, elementum dapibus dolor. Proin fermentum, turpis eu condimentum gravida, risus arcu convallis enim, ac sagittis est lacus ac mauris. Integer et lectus et lorem pretium tempor eget dictum mi. Quisque at nunc non enim mollis mattis. Nulla non lorem vitae justo vehicula fringilla. Suspendisse aliquam blandit tellus in efficitur. Interdum et malesuada fames ac ante ipsum primis in faucibus. Sed eleifend quam sed ornare tempor. Morbi nunc risus, tristique ut suscipit et, varius vitae nunc. Donec ut pharetra ipsum. Praesent elementum ligula libero, sit amet molestie ligula egestas id.\n",
      "\n",
      "Sed porta maximus vulputate. Praesent eu consequat orci. Vivamus quis sapien venenatis, vulputate ipsum sed, pellentesque risus. Morbi at ipsum eu eros tincidunt bibendum. Nunc ac metus ligula. Sed tincidunt mi et leo rutrum, vel fermentum justo tincidunt. Aliquam dapibus mattis ante quis facilisis. Pellentesque gravida dolor ac tellus ultricies, at interdum est dictum. Integer at purus quis mi viverra ornare at et nunc. Donec laoreet lacus ut sem luctus scelerisque. Nam faucibus blandit dui ut consectetur.\n",
      "\n",
      "Duis sit amet velit felis. Maecenas venenatis risus quis mauris luctus, ac semper nisi vulputate. Nam facilisis quam eget luctus malesuada. Proin elementum ex massa, ac pulvinar ex porta ut. Sed sem sapien, aliquam imperdiet pellentesque nec, viverra ut risus. Morbi ultrices odio neque, eget faucibus dolor vehicula nec. Mauris orci dui, bibendum ac eleifend eu, volutpat ac augue. Nulla mollis pulvinar nunc, quis scelerisque erat molestie eget. In turpis augue, hendrerit ac mi at, sagittis aliquet purus. Nam vel vestibulum tortor. Aliquam sit amet velit tellus.\n",
      "\n",
      "Nullam gravida mattis nibh, sodales porttitor ex mattis id. Cras tincidunt consequat eros, sed facilisis arcu efficitur id. Ut eu tortor ut massa euismod sagittis eget et nibh. Nunc imperdiet dignissim ante, suscipit placerat dolor molestie id. Donec pretium at lacus sed dignissim. Praesent sit amet risus semper, dignissim justo in, pretium nulla. Nullam finibus volutpat ligula, nec posuere diam vehicula eu. Interdum et malesuada fames ac ante ipsum primis in faucibus. Duis vestibulum, urna eu pharetra sollicitudin, massa lacus scelerisque ligula, ac maximus elit est faucibus velit. Nullam eu turpis eget nisi dapibus vulputate eget sit amet elit. Donec mauris est, molestie ac rhoncus sed, vehicula at mauris.\n",
      "\n"
     ]
    }
   ],
   "source": [
    "print(file_content)"
   ]
  },
  {
   "cell_type": "markdown",
   "id": "fbdb76d0",
   "metadata": {},
   "source": [
    "Read each line of the file using `readline()` method"
   ]
  },
  {
   "cell_type": "code",
   "execution_count": 15,
   "id": "afe1177b",
   "metadata": {},
   "outputs": [
    {
     "name": "stdout",
     "output_type": "stream",
     "text": [
      "['Lorem ipsum dolor sit amet, consectetur adipiscing elit. Nam id eros imperdiet, mollis ex eu, venenatis dolor. Class aptent taciti sociosqu ad litora torquent per conubia nostra, per inceptos himenaeos. Vivamus blandit, ligula quis vulputate vestibulum, velit odio scelerisque enim, nec tempus libero massa tempor massa. Integer erat massa, sollicitudin non fermentum id, tempus in mauris. Nulla aliquam eu est lobortis rhoncus. Aliquam nec malesuada dolor. Nam eu tempor neque, in aliquet turpis. Nulla nulla est, facilisis a sodales at, vulputate vel risus. Mauris sodales ultrices sem sit amet luctus. Nunc commodo, dui facilisis fermentum aliquet, tellus velit efficitur lorem, in gravida nulla mi quis enim.\\n', '\\n', 'Praesent dictum lacus sed bibendum aliquam. Sed iaculis tristique placerat. Praesent arcu nunc, tempor bibendum turpis non, ullamcorper sollicitudin neque. Aenean blandit, est gravida rutrum sodales, lectus sem gravida tellus, et posuere lacus ligula et nisl. Morbi sagittis, felis in pretium cursus, ante lectus condimentum massa, quis scelerisque neque nisi non velit. Sed elit mi, condimentum at neque sed, elementum dapibus dolor. Proin fermentum, turpis eu condimentum gravida, risus arcu convallis enim, ac sagittis est lacus ac mauris. Integer et lectus et lorem pretium tempor eget dictum mi. Quisque at nunc non enim mollis mattis. Nulla non lorem vitae justo vehicula fringilla. Suspendisse aliquam blandit tellus in efficitur. Interdum et malesuada fames ac ante ipsum primis in faucibus. Sed eleifend quam sed ornare tempor. Morbi nunc risus, tristique ut suscipit et, varius vitae nunc. Donec ut pharetra ipsum. Praesent elementum ligula libero, sit amet molestie ligula egestas id.\\n', '\\n', 'Sed porta maximus vulputate. Praesent eu consequat orci. Vivamus quis sapien venenatis, vulputate ipsum sed, pellentesque risus. Morbi at ipsum eu eros tincidunt bibendum. Nunc ac metus ligula. Sed tincidunt mi et leo rutrum, vel fermentum justo tincidunt. Aliquam dapibus mattis ante quis facilisis. Pellentesque gravida dolor ac tellus ultricies, at interdum est dictum. Integer at purus quis mi viverra ornare at et nunc. Donec laoreet lacus ut sem luctus scelerisque. Nam faucibus blandit dui ut consectetur.\\n', '\\n', 'Duis sit amet velit felis. Maecenas venenatis risus quis mauris luctus, ac semper nisi vulputate. Nam facilisis quam eget luctus malesuada. Proin elementum ex massa, ac pulvinar ex porta ut. Sed sem sapien, aliquam imperdiet pellentesque nec, viverra ut risus. Morbi ultrices odio neque, eget faucibus dolor vehicula nec. Mauris orci dui, bibendum ac eleifend eu, volutpat ac augue. Nulla mollis pulvinar nunc, quis scelerisque erat molestie eget. In turpis augue, hendrerit ac mi at, sagittis aliquet purus. Nam vel vestibulum tortor. Aliquam sit amet velit tellus.\\n', '\\n', 'Nullam gravida mattis nibh, sodales porttitor ex mattis id. Cras tincidunt consequat eros, sed facilisis arcu efficitur id. Ut eu tortor ut massa euismod sagittis eget et nibh. Nunc imperdiet dignissim ante, suscipit placerat dolor molestie id. Donec pretium at lacus sed dignissim. Praesent sit amet risus semper, dignissim justo in, pretium nulla. Nullam finibus volutpat ligula, nec posuere diam vehicula eu. Interdum et malesuada fames ac ante ipsum primis in faucibus. Duis vestibulum, urna eu pharetra sollicitudin, massa lacus scelerisque ligula, ac maximus elit est faucibus velit. Nullam eu turpis eget nisi dapibus vulputate eget sit amet elit. Donec mauris est, molestie ac rhoncus sed, vehicula at mauris.\\n']\n"
     ]
    }
   ],
   "source": [
    "file.seek(0) # Run this command to return file reader cursor back to first position of the file\n",
    "lines = file.readlines()\n",
    "print(lines)\n",
    "file.close() # important to close file handler after use is done for your needs"
   ]
  },
  {
   "cell_type": "markdown",
   "id": "f542fe7f",
   "metadata": {},
   "source": [
    "**New way for reading files**\n",
    "- The new way uses the `with open(file_name) as `alias`\n",
    "- This provides a streamlined file processing block"
   ]
  },
  {
   "cell_type": "markdown",
   "id": "9e2a79ae",
   "metadata": {},
   "source": [
    "**Reading from a file**"
   ]
  },
  {
   "cell_type": "code",
   "execution_count": 33,
   "id": "a28754eb",
   "metadata": {},
   "outputs": [
    {
     "name": "stdout",
     "output_type": "stream",
     "text": [
      "['Lorem ipsum dolor sit amet, consectetur adipiscing elit. Nam id eros imperdiet, mollis ex eu, venenatis dolor. Class aptent taciti sociosqu ad litora torquent per conubia nostra, per inceptos himenaeos. Vivamus blandit, ligula quis vulputate vestibulum, velit odio scelerisque enim, nec tempus libero massa tempor massa. Integer erat massa, sollicitudin non fermentum id, tempus in mauris. Nulla aliquam eu est lobortis rhoncus. Aliquam nec malesuada dolor. Nam eu tempor neque, in aliquet turpis. Nulla nulla est, facilisis a sodales at, vulputate vel risus. Mauris sodales ultrices sem sit amet luctus. Nunc commodo, dui facilisis fermentum aliquet, tellus velit efficitur lorem, in gravida nulla mi quis enim.\\n', '\\n', 'Praesent dictum lacus sed bibendum aliquam. Sed iaculis tristique placerat. Praesent arcu nunc, tempor bibendum turpis non, ullamcorper sollicitudin neque. Aenean blandit, est gravida rutrum sodales, lectus sem gravida tellus, et posuere lacus ligula et nisl. Morbi sagittis, felis in pretium cursus, ante lectus condimentum massa, quis scelerisque neque nisi non velit. Sed elit mi, condimentum at neque sed, elementum dapibus dolor. Proin fermentum, turpis eu condimentum gravida, risus arcu convallis enim, ac sagittis est lacus ac mauris. Integer et lectus et lorem pretium tempor eget dictum mi. Quisque at nunc non enim mollis mattis. Nulla non lorem vitae justo vehicula fringilla. Suspendisse aliquam blandit tellus in efficitur. Interdum et malesuada fames ac ante ipsum primis in faucibus. Sed eleifend quam sed ornare tempor. Morbi nunc risus, tristique ut suscipit et, varius vitae nunc. Donec ut pharetra ipsum. Praesent elementum ligula libero, sit amet molestie ligula egestas id.\\n', '\\n', 'Sed porta maximus vulputate. Praesent eu consequat orci. Vivamus quis sapien venenatis, vulputate ipsum sed, pellentesque risus. Morbi at ipsum eu eros tincidunt bibendum. Nunc ac metus ligula. Sed tincidunt mi et leo rutrum, vel fermentum justo tincidunt. Aliquam dapibus mattis ante quis facilisis. Pellentesque gravida dolor ac tellus ultricies, at interdum est dictum. Integer at purus quis mi viverra ornare at et nunc. Donec laoreet lacus ut sem luctus scelerisque. Nam faucibus blandit dui ut consectetur.\\n', '\\n', 'Duis sit amet velit felis. Maecenas venenatis risus quis mauris luctus, ac semper nisi vulputate. Nam facilisis quam eget luctus malesuada. Proin elementum ex massa, ac pulvinar ex porta ut. Sed sem sapien, aliquam imperdiet pellentesque nec, viverra ut risus. Morbi ultrices odio neque, eget faucibus dolor vehicula nec. Mauris orci dui, bibendum ac eleifend eu, volutpat ac augue. Nulla mollis pulvinar nunc, quis scelerisque erat molestie eget. In turpis augue, hendrerit ac mi at, sagittis aliquet purus. Nam vel vestibulum tortor. Aliquam sit amet velit tellus.\\n', '\\n', 'Nullam gravida mattis nibh, sodales porttitor ex mattis id. Cras tincidunt consequat eros, sed facilisis arcu efficitur id. Ut eu tortor ut massa euismod sagittis eget et nibh. Nunc imperdiet dignissim ante, suscipit placerat dolor molestie id. Donec pretium at lacus sed dignissim. Praesent sit amet risus semper, dignissim justo in, pretium nulla. Nullam finibus volutpat ligula, nec posuere diam vehicula eu. Interdum et malesuada fames ac ante ipsum primis in faucibus. Duis vestibulum, urna eu pharetra sollicitudin, massa lacus scelerisque ligula, ac maximus elit est faucibus velit. Nullam eu turpis eget nisi dapibus vulputate eget sit amet elit. Donec mauris est, molestie ac rhoncus sed, vehicula at mauris.\\n']\n"
     ]
    }
   ],
   "source": [
    "with open('file.txt', mode='r') as f: #mode = r means read, w means write, a means append to\n",
    "    file_contents = f.readlines()\n",
    "    print(file_contents)"
   ]
  },
  {
   "cell_type": "markdown",
   "id": "cf5e8733",
   "metadata": {},
   "source": [
    "**Writing to a file**"
   ]
  },
  {
   "cell_type": "code",
   "execution_count": 9,
   "id": "30613eff",
   "metadata": {},
   "outputs": [],
   "source": [
    "file_name = 'file2.txt'\n",
    "\n",
    "with open(file_name, mode='w') as writer:\n",
    "    writer.write('hello world')\n",
    "    writer.close() # important to close file handler"
   ]
  },
  {
   "cell_type": "markdown",
   "id": "fa29c99d",
   "metadata": {},
   "source": [
    "Confirm writing a a new file named file2.txt worked"
   ]
  },
  {
   "cell_type": "code",
   "execution_count": 41,
   "id": "106f2eb6",
   "metadata": {},
   "outputs": [
    {
     "name": "stdout",
     "output_type": "stream",
     "text": [
      "\u001b[31mfile.txt\u001b[m\u001b[m*           file2.txt           filehandling.ipynb\r\n"
     ]
    }
   ],
   "source": [
    "ls"
   ]
  },
  {
   "cell_type": "code",
   "execution_count": 11,
   "id": "fbe74978",
   "metadata": {},
   "outputs": [
    {
     "name": "stdout",
     "output_type": "stream",
     "text": [
      "['hello world']\n"
     ]
    }
   ],
   "source": [
    "# now see contents\n",
    "with open(file_name, mode='r') as reader:\n",
    "    lines = reader.readlines()\n",
    "    print(lines)\n",
    "    reader.close()"
   ]
  }
 ],
 "metadata": {
  "kernelspec": {
   "display_name": "Python 3 (ipykernel)",
   "language": "python",
   "name": "python3"
  },
  "language_info": {
   "codemirror_mode": {
    "name": "ipython",
    "version": 3
   },
   "file_extension": ".py",
   "mimetype": "text/x-python",
   "name": "python",
   "nbconvert_exporter": "python",
   "pygments_lexer": "ipython3",
   "version": "3.10.9"
  }
 },
 "nbformat": 4,
 "nbformat_minor": 5
}
