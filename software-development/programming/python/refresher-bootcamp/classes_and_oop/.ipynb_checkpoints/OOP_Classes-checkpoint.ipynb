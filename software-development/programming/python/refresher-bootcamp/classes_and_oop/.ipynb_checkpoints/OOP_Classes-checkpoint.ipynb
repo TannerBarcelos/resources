{
 "cells": [
  {
   "cell_type": "markdown",
   "id": "fa16217e",
   "metadata": {},
   "source": [
    "## What are Classes and OOP?\n",
    "\n",
    "- Classes represent entities of some kind in memory - think of a class representing a Dog or an Animal\n",
    "- We use classes to construct custom objects to represent data how we want\n",
    "- Objects (instances) of a class can act upon the data and internal state of the object and manipulate how it is used"
   ]
  },
  {
   "cell_type": "code",
   "execution_count": 1,
   "id": "1a327f6d",
   "metadata": {},
   "outputs": [
    {
     "name": "stdout",
     "output_type": "stream",
     "text": [
      "Willow\n"
     ]
    }
   ],
   "source": [
    "class Animal():\n",
    "    def __init__(self, name):\n",
    "        self.name = name\n",
    "    def get_name(self):\n",
    "        return self.name\n",
    "    def set_name(self, name):\n",
    "        self.name = name\n",
    "        return self.name\n",
    "\n",
    "animal = Animal(\"Willow\")\n",
    "print(animal.get_name())"
   ]
  },
  {
   "cell_type": "markdown",
   "id": "f5d3ddc4",
   "metadata": {},
   "source": [
    "- Classes have **methods** and **attributes**\n",
    "\n",
    "Method: A function that acts upon the instance and properties of the class\n",
    "Attributes: The member variables and internal state values in the class\n",
    "\n",
    "`self.name` is an attribute\n",
    "`get_name()` is a method"
   ]
  },
  {
   "cell_type": "markdown",
   "id": "4f619b6f",
   "metadata": {},
   "source": [
    "### What is this `self` keyword we are seeing?\n",
    "\n",
    "- The `self` keyword is used to represent the instance of the class.\n",
    "- It is used to access its own internal state (attributes) and methods to act on the data within that instance\n",
    "- If you are familiar with `this` in other languages, it is roughly the same thing\n",
    "\n",
    "**`self` is a convention name but you can call it anything. It is just best to keep it called `self` due to clean code standards and ease of readibility for other engineers**\n",
    "\n",
    "e.g)\n",
    "\n",
    "```python\n",
    "def some_method(banana):\n",
    "    return banana.some_attribute\n",
    "```\n",
    "\n",
    "- `banana` is the `self` attribute / keyword just renamed. Of course if someone came into the codebase and saw this they would me beyond confused!"
   ]
  },
  {
   "cell_type": "markdown",
   "id": "ef91f831",
   "metadata": {},
   "source": [
    "### Private and Public attributes and methods\n",
    "\n",
    "- Internal data (attributes) and even methods can be *private* within the class itself and **inaccessible** outside the class.\n",
    "- In Python, the idea of public / private is not actually a thing like other languages (java, cpp, etc.), but Python has a work around that is more of a DX feature rather than actual functionality. This work around is called **dunder methods and attributes**\n",
    "- Essentially, dunders are just double-underscore characters wrapping an attribute or method. This syntax tells developers that the attribute and/or method is private and is to be innaccessible\n",
    "\n",
    "example)\n",
    "`self.__id__ = 1` \n",
    "\n",
    "> We would want the id to be immutable, and therefore we can make it *private so it never gets updated*"
   ]
  },
  {
   "cell_type": "markdown",
   "id": "f182942f",
   "metadata": {},
   "source": [
    "Another class example using private and public attributes and methods "
   ]
  },
  {
   "cell_type": "code",
   "execution_count": 7,
   "id": "3549752e",
   "metadata": {},
   "outputs": [
    {
     "name": "stdout",
     "output_type": "stream",
     "text": [
      "The circumference of the circle with a radius of 4 is 25.12\n"
     ]
    }
   ],
   "source": [
    "class Circle():\n",
    "    \n",
    "    PI = 3.14\n",
    "    \n",
    "    def __init__(self, radius=1):\n",
    "        self.radius = radius\n",
    "    \n",
    "    def __calc_circumference__(self):\n",
    "        \"\"\"\n",
    "        @Private\n",
    "        Method to calculate circumference of a circle\n",
    "        \"\"\"\n",
    "        return self.radius * self.PI * 2\n",
    "    \n",
    "    def get_circumference(self):\n",
    "        \"\"\"\n",
    "        @Public\n",
    "        Method to return the circumference of a circle whenever called\n",
    "        \"\"\"\n",
    "        return self.__calc_circumference__()\n",
    "\n",
    "\n",
    "rad = 4\n",
    "circle = Circle(rad)\n",
    "circ = circle.get_circumference()\n",
    "print(f\"The circumference of the circle with a radius of {rad} is {circ}\")"
   ]
  }
 ],
 "metadata": {
  "kernelspec": {
   "display_name": "Python 3 (ipykernel)",
   "language": "python",
   "name": "python3"
  },
  "language_info": {
   "codemirror_mode": {
    "name": "ipython",
    "version": 3
   },
   "file_extension": ".py",
   "mimetype": "text/x-python",
   "name": "python",
   "nbconvert_exporter": "python",
   "pygments_lexer": "ipython3",
   "version": "3.10.9"
  }
 },
 "nbformat": 4,
 "nbformat_minor": 5
}
